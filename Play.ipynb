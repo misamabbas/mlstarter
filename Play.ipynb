{
 "cells": [
  {
   "cell_type": "code",
   "execution_count": 2,
   "metadata": {},
   "outputs": [],
   "source": [
    "import numpy as np\n"
   ]
  },
  {
   "cell_type": "code",
   "execution_count": 38,
   "metadata": {},
   "outputs": [
    {
     "name": "stdout",
     "output_type": "stream",
     "text": [
      "(2, 3, 4)\n"
     ]
    },
    {
     "data": {
      "text/plain": [
       "array([[[ 9.,  0.,  4.,  2.],\n",
       "        [ 1.,  2.,  4.,  5.],\n",
       "        [ 7.,  2., 10.,  6.]],\n",
       "\n",
       "       [[ 2.,  7.,  2.,  9.],\n",
       "        [ 2.,  2.,  1.,  1.],\n",
       "        [ 4.,  5.,  0.,  5.]]])"
      ]
     },
     "execution_count": 38,
     "metadata": {},
     "output_type": "execute_result"
    }
   ],
   "source": [
    "x = np.round((np.random.random((2,3,4)) * 10 ))\n",
    "print(x.shape)\n",
    "x"
   ]
  },
  {
   "cell_type": "code",
   "execution_count": 43,
   "metadata": {},
   "outputs": [
    {
     "data": {
      "text/plain": [
       "5.0"
      ]
     },
     "execution_count": 43,
     "metadata": {},
     "output_type": "execute_result"
    }
   ],
   "source": [
    "x[0][1][3]"
   ]
  },
  {
   "cell_type": "code",
   "execution_count": 25,
   "metadata": {},
   "outputs": [
    {
     "name": "stdout",
     "output_type": "stream",
     "text": [
      "CPU times: user 856 ms, sys: 204 ms, total: 1.06 s\n",
      "Wall time: 507 ms\n"
     ]
    },
    {
     "data": {
      "text/plain": [
       "array([[0.84638002, 0.29948987, 0.27202316, ..., 0.46383207, 0.75739203,\n",
       "        0.12431743],\n",
       "       [0.29948987, 0.10597389, 0.09625485, ..., 0.16412604, 0.26800165,\n",
       "        0.04398947],\n",
       "       [0.27202316, 0.09625485, 0.08742716, ..., 0.14907378, 0.24342278,\n",
       "        0.03995512],\n",
       "       ...,\n",
       "       [0.46383207, 0.16412604, 0.14907378, ..., 0.25418864, 0.41506499,\n",
       "        0.06812827],\n",
       "       [0.75739203, 0.26800165, 0.24342278, ..., 0.41506499, 0.6777602 ,\n",
       "        0.11124675],\n",
       "       [0.12431743, 0.04398947, 0.03995512, ..., 0.06812827, 0.11124675,\n",
       "        0.01825991]])"
      ]
     },
     "execution_count": 25,
     "metadata": {},
     "output_type": "execute_result"
    }
   ],
   "source": []
  },
  {
   "cell_type": "code",
   "execution_count": null,
   "metadata": {},
   "outputs": [],
   "source": []
  },
  {
   "cell_type": "code",
   "execution_count": null,
   "metadata": {},
   "outputs": [],
   "source": []
  }
 ],
 "metadata": {
  "kernelspec": {
   "display_name": "Python 3",
   "language": "python",
   "name": "python3"
  },
  "language_info": {
   "codemirror_mode": {
    "name": "ipython",
    "version": 3
   },
   "file_extension": ".py",
   "mimetype": "text/x-python",
   "name": "python",
   "nbconvert_exporter": "python",
   "pygments_lexer": "ipython3",
   "version": "3.6.1"
  }
 },
 "nbformat": 4,
 "nbformat_minor": 2
}
