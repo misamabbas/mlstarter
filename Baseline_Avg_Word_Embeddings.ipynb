{
 "cells": [
  {
   "cell_type": "code",
   "execution_count": 1,
   "metadata": {},
   "outputs": [],
   "source": [
    "import pandas as pd\n",
    "import numpy as np"
   ]
  },
  {
   "cell_type": "code",
   "execution_count": 45,
   "metadata": {},
   "outputs": [],
   "source": [
    "import app_utils as u\n",
    "#For reload at development time\n",
    "from imp import reload\n",
    "reload(u);"
   ]
  },
  {
   "cell_type": "code",
   "execution_count": 18,
   "metadata": {},
   "outputs": [
    {
     "data": {
      "text/html": [
       "<div>\n",
       "<style scoped>\n",
       "    .dataframe tbody tr th:only-of-type {\n",
       "        vertical-align: middle;\n",
       "    }\n",
       "\n",
       "    .dataframe tbody tr th {\n",
       "        vertical-align: top;\n",
       "    }\n",
       "\n",
       "    .dataframe thead th {\n",
       "        text-align: right;\n",
       "    }\n",
       "</style>\n",
       "<table border=\"1\" class=\"dataframe\">\n",
       "  <thead>\n",
       "    <tr style=\"text-align: right;\">\n",
       "      <th></th>\n",
       "      <th>class</th>\n",
       "      <th>name</th>\n",
       "      <th>description</th>\n",
       "    </tr>\n",
       "  </thead>\n",
       "  <tbody>\n",
       "    <tr>\n",
       "      <th>0</th>\n",
       "      <td>1</td>\n",
       "      <td>E. D. Abbott Ltd</td>\n",
       "      <td>Abbott of Farnham E D Abbott Limited was a Br...</td>\n",
       "    </tr>\n",
       "    <tr>\n",
       "      <th>1</th>\n",
       "      <td>1</td>\n",
       "      <td>Schwan-Stabilo</td>\n",
       "      <td>Schwan-STABILO is a German maker of pens for ...</td>\n",
       "    </tr>\n",
       "    <tr>\n",
       "      <th>2</th>\n",
       "      <td>1</td>\n",
       "      <td>Q-workshop</td>\n",
       "      <td>Q-workshop is a Polish company located in Poz...</td>\n",
       "    </tr>\n",
       "    <tr>\n",
       "      <th>3</th>\n",
       "      <td>1</td>\n",
       "      <td>Marvell Software Solutions Israel</td>\n",
       "      <td>Marvell Software Solutions Israel known as RA...</td>\n",
       "    </tr>\n",
       "    <tr>\n",
       "      <th>4</th>\n",
       "      <td>1</td>\n",
       "      <td>Bergan Mercy Medical Center</td>\n",
       "      <td>Bergan Mercy Medical Center is a hospital loc...</td>\n",
       "    </tr>\n",
       "  </tbody>\n",
       "</table>\n",
       "</div>"
      ],
      "text/plain": [
       "   class                               name  \\\n",
       "0      1                   E. D. Abbott Ltd   \n",
       "1      1                     Schwan-Stabilo   \n",
       "2      1                         Q-workshop   \n",
       "3      1  Marvell Software Solutions Israel   \n",
       "4      1        Bergan Mercy Medical Center   \n",
       "\n",
       "                                         description  \n",
       "0   Abbott of Farnham E D Abbott Limited was a Br...  \n",
       "1   Schwan-STABILO is a German maker of pens for ...  \n",
       "2   Q-workshop is a Polish company located in Poz...  \n",
       "3   Marvell Software Solutions Israel known as RA...  \n",
       "4   Bergan Mercy Medical Center is a hospital loc...  "
      ]
     },
     "execution_count": 18,
     "metadata": {},
     "output_type": "execute_result"
    }
   ],
   "source": [
    "df_train = pd.read_csv('data/dbpedia/train.csv.gz',header=None)\n",
    "df_train.columns = ['class','name','description']\n",
    "df_train.head()"
   ]
  },
  {
   "cell_type": "code",
   "execution_count": 39,
   "metadata": {},
   "outputs": [],
   "source": [
    "classes_df = pd.read_csv('data/dbpedia/classes.txt')\n",
    "classes_df.head()\n",
    "classes = classes_df.Company.values"
   ]
  },
  {
   "cell_type": "code",
   "execution_count": 41,
   "metadata": {},
   "outputs": [
    {
     "data": {
      "text/plain": [
       "(400000, 50)"
      ]
     },
     "execution_count": 41,
     "metadata": {},
     "output_type": "execute_result"
    }
   ],
   "source": [
    "embeddings,word_index = u.load_embeddings()\n",
    "embeddings.shape"
   ]
  },
  {
   "cell_type": "code",
   "execution_count": 42,
   "metadata": {},
   "outputs": [
    {
     "data": {
      "text/plain": [
       "(13, 50)"
      ]
     },
     "execution_count": 42,
     "metadata": {},
     "output_type": "execute_result"
    }
   ],
   "source": [
    "class_embeddings = u.get_category_embeddings(classes,word_index,embeddings)\n",
    "class_embeddings.shape"
   ]
  },
  {
   "cell_type": "code",
   "execution_count": 51,
   "metadata": {},
   "outputs": [],
   "source": [
    "# Define a local method to make it easy to calculate category given the expense\n",
    "def get_category_idx(description):\n",
    "    return u.get_category_idx(description,word_index,embeddings,class_embeddings)"
   ]
  },
  {
   "cell_type": "code",
   "execution_count": 62,
   "metadata": {},
   "outputs": [
    {
     "name": "stderr",
     "output_type": "stream",
     "text": [
      "/Users/mabbas/Aurora/ml/app_utils.py:53: RuntimeWarning: invalid value encountered in true_divide\n",
      "  return embed/np.linalg.norm(embed)\n"
     ]
    }
   ],
   "source": [
    "train_predictions = df_train.head(1000).apply(lambda row:get_category_idx(row['name']),axis=1).values"
   ]
  },
  {
   "cell_type": "code",
   "execution_count": 63,
   "metadata": {},
   "outputs": [
    {
     "data": {
      "text/plain": [
       "array([12,  0,  0,  0,  0, 12,  6,  0,  9,  4,  0,  0, 10,  5,  4, 12,  9,\n",
       "        0,  3, 12,  4, 12,  6,  5,  4,  7,  0,  0, 12,  0,  6,  0,  4,  4,\n",
       "        4,  4,  0,  4, 10, 11, 12, 11, 12,  6,  4,  9,  0,  0,  9,  6,  9,\n",
       "        9,  6,  4,  0,  4,  0, 11, 11,  0,  4,  3,  3,  3,  4,  0,  7,  0,\n",
       "        9,  0,  4,  0,  0,  7,  9,  5,  3,  4,  9,  4,  0,  0,  3,  0,  9,\n",
       "       10,  4,  6, 10, 10,  0,  4,  4,  4,  4,  2,  4,  5,  3,  0,  7,  4,\n",
       "       12,  0,  0,  4,  0,  0,  6,  0,  4,  4,  3,  9, 12, 10, 12, 10,  5,\n",
       "        9,  3,  4,  4,  0,  0,  0,  6, 12,  9,  4,  4,  5,  0,  0,  0,  1,\n",
       "        0,  6,  0,  5, 12, 11,  6,  4,  6,  6,  8,  4,  0,  0, 12, 12,  8,\n",
       "        4, 12,  7,  4, 12, 11,  4,  4,  6, 11,  0,  0,  0,  4,  4,  6,  0,\n",
       "        0,  9,  0,  6, 12,  4,  4,  9,  4,  0,  0,  0,  4,  0,  4, 10,  9,\n",
       "        4, 10,  8,  5,  0,  0,  4,  9,  6,  6,  7,  2,  4,  3, 12,  9, 10,\n",
       "        0,  3,  0, 12, 10,  1,  5, 12, 10,  4,  0,  4,  4, 10,  6,  0,  0,\n",
       "        4, 12,  7, 10,  9,  0, 12, 12,  9,  9,  9,  4, 12,  0, 10,  9,  4,\n",
       "        7, 12, 11,  0,  0,  4,  4, 12,  4,  4,  4,  0, 10,  3,  4,  8,  4,\n",
       "        6,  0,  3,  0,  1, 11,  4, 10,  4,  3,  9,  9,  0,  9,  5,  0,  7,\n",
       "        0,  0,  6,  0,  6,  4,  4,  0,  4, 10,  4,  9, 10,  6,  1,  0, 10,\n",
       "        5,  0, 11, 11,  0,  0,  0,  1, 10, 10,  6,  4, 12,  1,  4,  0,  8,\n",
       "        4,  0,  0,  8,  4,  5, 10,  4,  8, 10,  6,  7,  9, 11,  2,  9,  9,\n",
       "        0, 11,  0,  4,  4,  4,  3, 10,  2,  0, 10,  4, 10,  6,  4,  0, 10,\n",
       "        0,  9,  4, 10,  9,  4, 12,  4,  4, 10,  0,  4,  4,  5,  4,  0, 11,\n",
       "        4,  1,  9,  0,  9,  4,  9,  4,  0,  8, 12,  4,  0,  8,  0,  9,  4,\n",
       "        6,  0,  4, 11,  0,  0,  9,  0,  0,  4,  0,  5,  0,  9,  0,  6,  4,\n",
       "        0,  5, 12, 10, 11,  4,  6,  0,  0,  0, 12,  4, 10,  6, 10,  3,  4,\n",
       "       12,  4,  0,  6,  4,  0,  4,  6,  9,  6,  0,  0,  0,  7,  4,  0, 11,\n",
       "        3,  0,  0,  5, 11, 11,  4, 11,  0,  0,  0,  6, 11,  0,  3,  0,  0,\n",
       "        0,  6,  9,  9,  6,  4,  0,  4, 11,  7,  8,  0,  6,  3,  4,  4,  4,\n",
       "        9,  0,  4,  0,  4,  1,  0,  0,  0,  4,  4,  4,  4, 10,  5, 12,  0,\n",
       "       11,  9,  9,  4,  0,  9,  6,  0,  4,  6,  0, 10, 10,  4,  9, 11,  9,\n",
       "        4, 10,  4,  4, 11,  6, 10,  4,  3, 11,  4,  0,  4,  0,  4,  0,  4,\n",
       "       12,  9,  0,  3,  9,  4,  5,  4,  9,  9,  0, 12,  4,  0,  0,  0,  0,\n",
       "       12,  9,  9,  0,  0,  0,  5,  4, 12, 10, 10,  4,  9, 12,  5,  0,  4,\n",
       "        4,  3,  0, 10,  4, 10,  0,  4,  7,  4,  4,  9,  4,  0,  0,  0,  9,\n",
       "        0,  0,  0,  9,  5,  4, 12, 10,  0, 11,  0,  4,  0,  0,  4, 11,  4,\n",
       "       11, 10,  7,  4,  4, 11,  0, 11,  0,  9,  4,  4,  0,  4,  9,  0,  9,\n",
       "        9,  9,  0,  5, 10,  0,  0,  0,  0,  6,  0,  9, 12,  4,  0,  4,  6,\n",
       "        7, 11,  0, 11,  4,  4,  4,  0,  4,  4,  0,  0,  8,  6,  9, 10,  4,\n",
       "        0,  6, 11,  9,  1, 11, 12, 12,  4,  3, 12,  9, 12,  0, 11,  0,  3,\n",
       "        5, 11,  0, 12,  5,  4,  4,  7, 10, 11,  5,  6,  4,  4,  4,  7, 10,\n",
       "        0, 10,  4, 12,  3,  5,  0,  0,  4,  0,  2,  5, 10,  2,  5,  6, 12,\n",
       "        6,  3,  9,  5,  0,  0,  6,  4,  4,  9,  0,  6,  0, 10,  0, 10,  4,\n",
       "        4, 10,  0,  0,  9,  4,  9, 12,  0,  4, 12,  9,  5, 11,  7,  6,  0,\n",
       "        6,  2, 12,  8, 10,  9,  2,  7,  0,  4, 12, 11,  4,  5, 12,  4,  4,\n",
       "        9,  0,  4, 10, 12,  0, 11,  1,  0,  0,  1, 12,  0,  4,  9,  4,  4,\n",
       "       12,  6,  9,  9,  9,  6, 11, 10,  6,  4,  3,  5,  4, 10,  4,  0, 11,\n",
       "       11,  0,  0,  4,  0, 10,  6,  7,  9,  0,  0,  4,  0, 11,  4,  0,  6,\n",
       "        4,  4,  9,  0,  0,  0,  0,  1,  4,  6,  0,  9,  4,  5,  4,  0,  6,\n",
       "       11,  4, 11,  6,  7,  4,  4,  0, 11,  0,  9,  4,  0,  9,  0, 11, 10,\n",
       "        5,  0, 12,  1,  4,  9,  0,  4,  4,  0,  9,  6,  4, 10,  9,  4, 12,\n",
       "        9,  7,  9,  4,  4,  0,  0,  5,  4,  0,  4,  9, 12,  0,  0,  4,  9,\n",
       "        0,  0,  0,  4, 11, 10,  4,  0,  6,  5,  5,  0,  4,  0,  0,  4,  4,\n",
       "        6,  6, 10, 10,  0,  4,  3,  0,  3,  9,  7,  8,  0,  4,  4,  4,  4,\n",
       "        4, 12,  4,  0,  4,  0,  8, 10, 12,  9, 12,  4,  1,  9,  0,  0,  6,\n",
       "        6,  6,  4, 12,  0,  4,  9, 10,  4,  4, 12,  0, 12,  8,  0, 11,  6,\n",
       "        0,  0, 10,  8,  6, 12,  0,  0,  2,  3,  5,  4, 12, 10,  6,  3,  4,\n",
       "       10,  9, 10, 10,  4,  4, 12,  9,  4, 10,  4,  6,  0, 10,  4,  6, 12,\n",
       "        6, 12,  5,  4, 11,  0,  0,  9,  0, 10,  6,  1,  6, 10,  0,  4,  4,\n",
       "       11,  0,  9,  0,  9, 12, 10,  4, 11,  9,  4, 12, 12,  5,  7,  0,  0,\n",
       "       12,  0,  4, 11,  6,  4, 11,  6,  0,  0,  4,  0, 10,  3])"
      ]
     },
     "execution_count": 63,
     "metadata": {},
     "output_type": "execute_result"
    }
   ],
   "source": [
    "train_predictions"
   ]
  },
  {
   "cell_type": "code",
   "execution_count": 64,
   "metadata": {},
   "outputs": [
    {
     "data": {
      "text/plain": [
       "array([ 1,  1,  1, ..., 14, 14, 14])"
      ]
     },
     "execution_count": 64,
     "metadata": {},
     "output_type": "execute_result"
    }
   ],
   "source": [
    "df_train['class'].values"
   ]
  },
  {
   "cell_type": "code",
   "execution_count": null,
   "metadata": {},
   "outputs": [],
   "source": [
    "u.analyze_predictions(classes,df_train['class'].values,train_predictions)"
   ]
  }
 ],
 "metadata": {
  "kernelspec": {
   "display_name": "Python 3",
   "language": "python",
   "name": "python3"
  },
  "language_info": {
   "codemirror_mode": {
    "name": "ipython",
    "version": 3
   },
   "file_extension": ".py",
   "mimetype": "text/x-python",
   "name": "python",
   "nbconvert_exporter": "python",
   "pygments_lexer": "ipython3",
   "version": "3.6.1"
  }
 },
 "nbformat": 4,
 "nbformat_minor": 2
}
